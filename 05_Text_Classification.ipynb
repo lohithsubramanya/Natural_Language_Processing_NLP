{
 "cells": [
  {
   "cell_type": "markdown",
   "metadata": {},
   "source": [
    "# Text Classification is very useful technique in text analysis, such as it can be used in spam filtering, language identification, sentiment analysis, genre classification"
   ]
  },
  {
   "cell_type": "markdown",
   "metadata": {},
   "source": [
    "#### The most basic thing for a supervised text classifier is the labeled category data, which can be used as a training data. As an example, we use the NLTK Name corpus to train a Gender Identification classifier"
   ]
  },
  {
   "cell_type": "code",
   "execution_count": 1,
   "metadata": {
    "collapsed": true
   },
   "outputs": [],
   "source": [
    "from nltk.corpus import names"
   ]
  },
  {
   "cell_type": "code",
   "execution_count": 2,
   "metadata": {
    "collapsed": true
   },
   "outputs": [],
   "source": [
    "import random"
   ]
  },
  {
   "cell_type": "code",
   "execution_count": 3,
   "metadata": {
    "collapsed": true
   },
   "outputs": [],
   "source": [
    "names = ([(name, 'male') for name in names.words('male.txt')] + [(name, 'female') for name in names.words('female.txt')])"
   ]
  },
  {
   "cell_type": "code",
   "execution_count": 4,
   "metadata": {},
   "outputs": [
    {
     "data": {
      "text/plain": [
       "[('Aamir', 'male'),\n",
       " ('Aaron', 'male'),\n",
       " ('Abbey', 'male'),\n",
       " ('Abbie', 'male'),\n",
       " ('Abbot', 'male'),\n",
       " ('Abbott', 'male'),\n",
       " ('Abby', 'male'),\n",
       " ('Abdel', 'male'),\n",
       " ('Abdul', 'male'),\n",
       " ('Abdulkarim', 'male'),\n",
       " ('Abdullah', 'male'),\n",
       " ('Abe', 'male'),\n",
       " ('Abel', 'male'),\n",
       " ('Abelard', 'male'),\n",
       " ('Abner', 'male'),\n",
       " ('Abraham', 'male'),\n",
       " ('Abram', 'male'),\n",
       " ('Ace', 'male'),\n",
       " ('Adair', 'male'),\n",
       " ('Adam', 'male'),\n",
       " ('Adams', 'male'),\n",
       " ('Addie', 'male'),\n",
       " ('Adger', 'male'),\n",
       " ('Aditya', 'male'),\n",
       " ('Adlai', 'male'),\n",
       " ('Adnan', 'male'),\n",
       " ('Adolf', 'male'),\n",
       " ('Adolfo', 'male'),\n",
       " ('Adolph', 'male'),\n",
       " ('Adolphe', 'male'),\n",
       " ('Adolpho', 'male'),\n",
       " ('Adolphus', 'male'),\n",
       " ('Adrian', 'male'),\n",
       " ('Adrick', 'male'),\n",
       " ('Adrien', 'male'),\n",
       " ('Agamemnon', 'male'),\n",
       " ('Aguinaldo', 'male'),\n",
       " ('Aguste', 'male'),\n",
       " ('Agustin', 'male'),\n",
       " ('Aharon', 'male'),\n",
       " ('Ahmad', 'male'),\n",
       " ('Ahmed', 'male'),\n",
       " ('Ahmet', 'male'),\n",
       " ('Ajai', 'male'),\n",
       " ('Ajay', 'male'),\n",
       " ('Al', 'male'),\n",
       " ('Alaa', 'male'),\n",
       " ('Alain', 'male'),\n",
       " ('Alan', 'male'),\n",
       " ('Alasdair', 'male'),\n",
       " ('Alastair', 'male'),\n",
       " ('Albatros', 'male'),\n",
       " ('Albert', 'male'),\n",
       " ('Alberto', 'male'),\n",
       " ('Albrecht', 'male'),\n",
       " ('Alden', 'male'),\n",
       " ('Aldis', 'male'),\n",
       " ('Aldo', 'male'),\n",
       " ('Aldric', 'male'),\n",
       " ('Aldrich', 'male'),\n",
       " ('Aldus', 'male'),\n",
       " ('Aldwin', 'male'),\n",
       " ('Alec', 'male'),\n",
       " ('Aleck', 'male'),\n",
       " ('Alejandro', 'male'),\n",
       " ('Aleks', 'male'),\n",
       " ('Aleksandrs', 'male'),\n",
       " ('Alessandro', 'male'),\n",
       " ('Alex', 'male'),\n",
       " ('Alexander', 'male'),\n",
       " ('Alexei', 'male'),\n",
       " ('Alexis', 'male'),\n",
       " ('Alf', 'male'),\n",
       " ('Alfie', 'male'),\n",
       " ('Alfonse', 'male'),\n",
       " ('Alfonso', 'male'),\n",
       " ('Alfonzo', 'male'),\n",
       " ('Alford', 'male'),\n",
       " ('Alfred', 'male'),\n",
       " ('Alfredo', 'male'),\n",
       " ('Algernon', 'male'),\n",
       " ('Ali', 'male'),\n",
       " ('Alic', 'male'),\n",
       " ('Alister', 'male'),\n",
       " ('Alix', 'male'),\n",
       " ('Allah', 'male'),\n",
       " ('Allan', 'male'),\n",
       " ('Allen', 'male'),\n",
       " ('Alley', 'male'),\n",
       " ('Allie', 'male'),\n",
       " ('Allin', 'male'),\n",
       " ('Allyn', 'male'),\n",
       " ('Alonso', 'male'),\n",
       " ('Alonzo', 'male'),\n",
       " ('Aloysius', 'male'),\n",
       " ('Alphonse', 'male'),\n",
       " ('Alphonso', 'male'),\n",
       " ('Alston', 'male'),\n",
       " ('Alton', 'male'),\n",
       " ('Alvin', 'male'),\n",
       " ('Alwin', 'male'),\n",
       " ('Amadeus', 'male'),\n",
       " ('Ambros', 'male'),\n",
       " ('Ambrose', 'male'),\n",
       " ('Ambrosi', 'male'),\n",
       " ('Ambrosio', 'male'),\n",
       " ('Ambrosius', 'male'),\n",
       " ('Amery', 'male'),\n",
       " ('Amory', 'male'),\n",
       " ('Amos', 'male'),\n",
       " ('Anatol', 'male'),\n",
       " ('Anatole', 'male'),\n",
       " ('Anatollo', 'male'),\n",
       " ('Anatoly', 'male'),\n",
       " ('Anders', 'male'),\n",
       " ('Andie', 'male'),\n",
       " ('Andonis', 'male'),\n",
       " ('Andre', 'male'),\n",
       " ('Andrea', 'male'),\n",
       " ('Andreas', 'male'),\n",
       " ('Andrej', 'male'),\n",
       " ('Andres', 'male'),\n",
       " ('Andrew', 'male'),\n",
       " ('Andrey', 'male'),\n",
       " ('Andri', 'male'),\n",
       " ('Andros', 'male'),\n",
       " ('Andrus', 'male'),\n",
       " ('Andrzej', 'male'),\n",
       " ('Andy', 'male'),\n",
       " ('Angel', 'male'),\n",
       " ('Angelico', 'male'),\n",
       " ('Angelo', 'male'),\n",
       " ('Angie', 'male'),\n",
       " ('Angus', 'male'),\n",
       " ('Ansel', 'male'),\n",
       " ('Ansell', 'male'),\n",
       " ('Anselm', 'male'),\n",
       " ('Anson', 'male'),\n",
       " ('Anthony', 'male'),\n",
       " ('Antin', 'male'),\n",
       " ('Antoine', 'male'),\n",
       " ('Anton', 'male'),\n",
       " ('Antone', 'male'),\n",
       " ('Antoni', 'male'),\n",
       " ('Antonin', 'male'),\n",
       " ('Antonino', 'male'),\n",
       " ('Antonio', 'male'),\n",
       " ('Antonius', 'male'),\n",
       " ('Antony', 'male'),\n",
       " ('Anurag', 'male'),\n",
       " ('Apollo', 'male'),\n",
       " ('Apostolos', 'male'),\n",
       " ('Aram', 'male'),\n",
       " ('Archibald', 'male'),\n",
       " ('Archibold', 'male'),\n",
       " ('Archie', 'male'),\n",
       " ('Archon', 'male'),\n",
       " ('Archy', 'male'),\n",
       " ('Arel', 'male'),\n",
       " ('Ari', 'male'),\n",
       " ('Arie', 'male'),\n",
       " ('Ariel', 'male'),\n",
       " ('Aristotle', 'male'),\n",
       " ('Arlo', 'male'),\n",
       " ('Armand', 'male'),\n",
       " ('Armando', 'male'),\n",
       " ('Armond', 'male'),\n",
       " ('Armstrong', 'male'),\n",
       " ('Arne', 'male'),\n",
       " ('Arnie', 'male'),\n",
       " ('Arnold', 'male'),\n",
       " ('Arnoldo', 'male'),\n",
       " ('Aron', 'male'),\n",
       " ('Arron', 'male'),\n",
       " ('Art', 'male'),\n",
       " ('Arther', 'male'),\n",
       " ('Arthur', 'male'),\n",
       " ('Artie', 'male'),\n",
       " ('Artur', 'male'),\n",
       " ('Arturo', 'male'),\n",
       " ('Arvie', 'male'),\n",
       " ('Arvin', 'male'),\n",
       " ('Arvind', 'male'),\n",
       " ('Arvy', 'male'),\n",
       " ('Ash', 'male'),\n",
       " ('Ashby', 'male'),\n",
       " ('Ashish', 'male'),\n",
       " ('Ashley', 'male'),\n",
       " ('Ashton', 'male'),\n",
       " ('Aub', 'male'),\n",
       " ('Aube', 'male'),\n",
       " ('Aubert', 'male'),\n",
       " ('Aubrey', 'male'),\n",
       " ('Augie', 'male'),\n",
       " ('August', 'male'),\n",
       " ('Augustin', 'male'),\n",
       " ('Augustine', 'male'),\n",
       " ('Augusto', 'male'),\n",
       " ('Augustus', 'male'),\n",
       " ('Austen', 'male'),\n",
       " ('Austin', 'male'),\n",
       " ('Ave', 'male'),\n",
       " ('Averell', 'male'),\n",
       " ('Averil', 'male'),\n",
       " ('Averill', 'male'),\n",
       " ('Avery', 'male'),\n",
       " ('Avi', 'male'),\n",
       " ('Avraham', 'male'),\n",
       " ('Avram', 'male'),\n",
       " ('Avrom', 'male'),\n",
       " ('Axel', 'male'),\n",
       " ('Aylmer', 'male'),\n",
       " ('Aziz', 'male'),\n",
       " ('Bailey', 'male'),\n",
       " ('Bailie', 'male'),\n",
       " ('Baillie', 'male'),\n",
       " ('Baily', 'male'),\n",
       " ('Baird', 'male'),\n",
       " ('Baldwin', 'male'),\n",
       " ('Bancroft', 'male'),\n",
       " ('Barbabas', 'male'),\n",
       " ('Barclay', 'male'),\n",
       " ('Bard', 'male'),\n",
       " ('Barde', 'male'),\n",
       " ('Barn', 'male'),\n",
       " ('Barnabas', 'male'),\n",
       " ('Barnabe', 'male'),\n",
       " ('Barnaby', 'male'),\n",
       " ('Barnard', 'male'),\n",
       " ('Barnebas', 'male'),\n",
       " ('Barnett', 'male'),\n",
       " ('Barney', 'male'),\n",
       " ('Barnie', 'male'),\n",
       " ('Barny', 'male'),\n",
       " ('Baron', 'male'),\n",
       " ('Barr', 'male'),\n",
       " ('Barret', 'male'),\n",
       " ('Barrett', 'male'),\n",
       " ('Barri', 'male'),\n",
       " ('Barrie', 'male'),\n",
       " ('Barris', 'male'),\n",
       " ('Barron', 'male'),\n",
       " ('Barry', 'male'),\n",
       " ('Bart', 'male'),\n",
       " ('Bartel', 'male'),\n",
       " ('Barth', 'male'),\n",
       " ('Barthel', 'male'),\n",
       " ('Bartholemy', 'male'),\n",
       " ('Bartholomeo', 'male'),\n",
       " ('Bartholomeus', 'male'),\n",
       " ('Bartholomew', 'male'),\n",
       " ('Bartie', 'male'),\n",
       " ('Bartlet', 'male'),\n",
       " ('Bartlett', 'male'),\n",
       " ('Bartolemo', 'male'),\n",
       " ('Bartolomei', 'male'),\n",
       " ('Bartolomeo', 'male'),\n",
       " ('Barton', 'male'),\n",
       " ('Barty', 'male'),\n",
       " ('Bary', 'male'),\n",
       " ('Basil', 'male'),\n",
       " ('Batholomew', 'male'),\n",
       " ('Baxter', 'male'),\n",
       " ('Bay', 'male'),\n",
       " ('Bayard', 'male'),\n",
       " ('Beale', 'male'),\n",
       " ('Bealle', 'male'),\n",
       " ('Bear', 'male'),\n",
       " ('Bearnard', 'male'),\n",
       " ('Beau', 'male'),\n",
       " ('Beaufort', 'male'),\n",
       " ('Beauregard', 'male'),\n",
       " ('Beck', 'male'),\n",
       " ('Bela', 'male'),\n",
       " ('Ben', 'male'),\n",
       " ('Benedict', 'male'),\n",
       " ('Bengt', 'male'),\n",
       " ('Benito', 'male'),\n",
       " ('Benjamen', 'male'),\n",
       " ('Benjamin', 'male'),\n",
       " ('Benji', 'male'),\n",
       " ('Benjie', 'male'),\n",
       " ('Benjy', 'male'),\n",
       " ('Benn', 'male'),\n",
       " ('Bennet', 'male'),\n",
       " ('Bennett', 'male'),\n",
       " ('Bennie', 'male'),\n",
       " ('Benny', 'male'),\n",
       " ('Benson', 'male'),\n",
       " ('Bentley', 'male'),\n",
       " ('Benton', 'male'),\n",
       " ('Beowulf', 'male'),\n",
       " ('Berchtold', 'male'),\n",
       " ('Berk', 'male'),\n",
       " ('Berke', 'male'),\n",
       " ('Berkeley', 'male'),\n",
       " ('Berkie', 'male'),\n",
       " ('Berkley', 'male'),\n",
       " ('Bernard', 'male'),\n",
       " ('Bernardo', 'male'),\n",
       " ('Bernd', 'male'),\n",
       " ('Bernhard', 'male'),\n",
       " ('Bernie', 'male'),\n",
       " ('Bert', 'male'),\n",
       " ('Bertie', 'male'),\n",
       " ('Bertram', 'male'),\n",
       " ('Bertrand', 'male'),\n",
       " ('Bharat', 'male'),\n",
       " ('Biff', 'male'),\n",
       " ('Bill', 'male'),\n",
       " ('Billie', 'male'),\n",
       " ('Billy', 'male'),\n",
       " ('Bing', 'male'),\n",
       " ('Binky', 'male'),\n",
       " ('Bishop', 'male'),\n",
       " ('Bjorn', 'male'),\n",
       " ('Bjorne', 'male'),\n",
       " ('Blaine', 'male'),\n",
       " ('Blair', 'male'),\n",
       " ('Blake', 'male'),\n",
       " ('Blare', 'male'),\n",
       " ('Blayne', 'male'),\n",
       " ('Bo', 'male'),\n",
       " ('Bob', 'male'),\n",
       " ('Bobbie', 'male'),\n",
       " ('Bobby', 'male'),\n",
       " ('Bogart', 'male'),\n",
       " ('Bogdan', 'male'),\n",
       " ('Boniface', 'male'),\n",
       " ('Boris', 'male'),\n",
       " ('Boyce', 'male'),\n",
       " ('Boyd', 'male'),\n",
       " ('Brad', 'male'),\n",
       " ('Braden', 'male'),\n",
       " ('Bradford', 'male'),\n",
       " ('Bradley', 'male'),\n",
       " ('Bradly', 'male'),\n",
       " ('Brady', 'male'),\n",
       " ('Brandon', 'male'),\n",
       " ('Brandy', 'male'),\n",
       " ('Brant', 'male'),\n",
       " ('Brendan', 'male'),\n",
       " ('Brent', 'male'),\n",
       " ('Bret', 'male'),\n",
       " ('Brett', 'male'),\n",
       " ('Brewer', 'male'),\n",
       " ('Brewster', 'male'),\n",
       " ('Brian', 'male'),\n",
       " ('Brice', 'male'),\n",
       " ('Briggs', 'male'),\n",
       " ('Brinkley', 'male'),\n",
       " ('Britt', 'male'),\n",
       " ('Brock', 'male'),\n",
       " ('Broddie', 'male'),\n",
       " ('Broddy', 'male'),\n",
       " ('Broderic', 'male'),\n",
       " ('Broderick', 'male'),\n",
       " ('Brodie', 'male'),\n",
       " ('Brody', 'male'),\n",
       " ('Bronson', 'male'),\n",
       " ('Brook', 'male'),\n",
       " ('Brooke', 'male'),\n",
       " ('Brooks', 'male'),\n",
       " ('Bruce', 'male'),\n",
       " ('Bruno', 'male'),\n",
       " ('Bryan', 'male'),\n",
       " ('Bryant', 'male'),\n",
       " ('Bryce', 'male'),\n",
       " ('Bryn', 'male'),\n",
       " ('Bryon', 'male'),\n",
       " ('Bubba', 'male'),\n",
       " ('Buck', 'male'),\n",
       " ('Bucky', 'male'),\n",
       " ('Bud', 'male'),\n",
       " ('Buddy', 'male'),\n",
       " ('Burgess', 'male'),\n",
       " ('Burke', 'male'),\n",
       " ('Burl', 'male'),\n",
       " ('Burnaby', 'male'),\n",
       " ('Burt', 'male'),\n",
       " ('Burton', 'male'),\n",
       " ('Buster', 'male'),\n",
       " ('Butch', 'male'),\n",
       " ('Butler', 'male'),\n",
       " ('Byram', 'male'),\n",
       " ('Byron', 'male'),\n",
       " ('Caesar', 'male'),\n",
       " ('Cain', 'male'),\n",
       " ('Cal', 'male'),\n",
       " ('Caldwell', 'male'),\n",
       " ('Caleb', 'male'),\n",
       " ('Calhoun', 'male'),\n",
       " ('Calvin', 'male'),\n",
       " ('Cam', 'male'),\n",
       " ('Cameron', 'male'),\n",
       " ('Cammy', 'male'),\n",
       " ('Carey', 'male'),\n",
       " ('Carl', 'male'),\n",
       " ('Carleigh', 'male'),\n",
       " ('Carlie', 'male'),\n",
       " ('Carlin', 'male'),\n",
       " ('Carlo', 'male'),\n",
       " ('Carlos', 'male'),\n",
       " ('Carlton', 'male'),\n",
       " ('Carlyle', 'male'),\n",
       " ('Carmine', 'male'),\n",
       " ('Carroll', 'male'),\n",
       " ('Carson', 'male'),\n",
       " ('Carsten', 'male'),\n",
       " ('Carter', 'male'),\n",
       " ('Cary', 'male'),\n",
       " ('Caryl', 'male'),\n",
       " ('Case', 'male'),\n",
       " ('Casey', 'male'),\n",
       " ('Caspar', 'male'),\n",
       " ('Casper', 'male'),\n",
       " ('Cass', 'male'),\n",
       " ('Cat', 'male'),\n",
       " ('Cecil', 'male'),\n",
       " ('Cesar', 'male'),\n",
       " ('Chad', 'male'),\n",
       " ('Chadd', 'male'),\n",
       " ('Chaddie', 'male'),\n",
       " ('Chaddy', 'male'),\n",
       " ('Chadwick', 'male'),\n",
       " ('Chaim', 'male'),\n",
       " ('Chalmers', 'male'),\n",
       " ('Chan', 'male'),\n",
       " ('Chance', 'male'),\n",
       " ('Chancey', 'male'),\n",
       " ('Chanderjit', 'male'),\n",
       " ('Chandler', 'male'),\n",
       " ('Chane', 'male'),\n",
       " ('Chariot', 'male'),\n",
       " ('Charles', 'male'),\n",
       " ('Charleton', 'male'),\n",
       " ('Charley', 'male'),\n",
       " ('Charlie', 'male'),\n",
       " ('Charlton', 'male'),\n",
       " ('Chas', 'male'),\n",
       " ('Chase', 'male'),\n",
       " ('Chaunce', 'male'),\n",
       " ('Chauncey', 'male'),\n",
       " ('Che', 'male'),\n",
       " ('Chelton', 'male'),\n",
       " ('Chen', 'male'),\n",
       " ('Chester', 'male'),\n",
       " ('Cheston', 'male'),\n",
       " ('Chet', 'male'),\n",
       " ('Chev', 'male'),\n",
       " ('Chevalier', 'male'),\n",
       " ('Chevy', 'male'),\n",
       " ('Chip', 'male'),\n",
       " ('Chris', 'male'),\n",
       " ('Chrissy', 'male'),\n",
       " ('Christ', 'male'),\n",
       " ('Christian', 'male'),\n",
       " ('Christiano', 'male'),\n",
       " ('Christie', 'male'),\n",
       " ('Christof', 'male'),\n",
       " ('Christofer', 'male'),\n",
       " ('Christoph', 'male'),\n",
       " ('Christophe', 'male'),\n",
       " ('Christopher', 'male'),\n",
       " ('Christorpher', 'male'),\n",
       " ('Christos', 'male'),\n",
       " ('Christy', 'male'),\n",
       " ('Chrisy', 'male'),\n",
       " ('Chuck', 'male'),\n",
       " ('Churchill', 'male'),\n",
       " ('Clair', 'male'),\n",
       " ('Claire', 'male'),\n",
       " ('Clancy', 'male'),\n",
       " ('Clarance', 'male'),\n",
       " ('Clare', 'male'),\n",
       " ('Clarence', 'male'),\n",
       " ('Clark', 'male'),\n",
       " ('Clarke', 'male'),\n",
       " ('Claude', 'male'),\n",
       " ('Claudio', 'male'),\n",
       " ('Claudius', 'male'),\n",
       " ('Claus', 'male'),\n",
       " ('Clay', 'male'),\n",
       " ('Clayborn', 'male'),\n",
       " ('Clayborne', 'male'),\n",
       " ('Claybourne', 'male'),\n",
       " ('Clayton', 'male'),\n",
       " ('Cleland', 'male'),\n",
       " ('Clem', 'male'),\n",
       " ('Clemens', 'male'),\n",
       " ('Clement', 'male'),\n",
       " ('Clemente', 'male'),\n",
       " ('Clemmie', 'male'),\n",
       " ('Cletus', 'male'),\n",
       " ('Cleveland', 'male'),\n",
       " ('Cliff', 'male'),\n",
       " ('Clifford', 'male'),\n",
       " ('Clifton', 'male'),\n",
       " ('Clint', 'male'),\n",
       " ('Clinten', 'male'),\n",
       " ('Clinton', 'male'),\n",
       " ('Clive', 'male'),\n",
       " ('Clyde', 'male'),\n",
       " ('Cob', 'male'),\n",
       " ('Cobb', 'male'),\n",
       " ('Cobbie', 'male'),\n",
       " ('Cobby', 'male'),\n",
       " ('Cody', 'male'),\n",
       " ('Colbert', 'male'),\n",
       " ('Cole', 'male'),\n",
       " ('Coleman', 'male'),\n",
       " ('Colin', 'male'),\n",
       " ('Collin', 'male'),\n",
       " ('Collins', 'male'),\n",
       " ('Conan', 'male'),\n",
       " ('Connie', 'male'),\n",
       " ('Connolly', 'male'),\n",
       " ('Connor', 'male'),\n",
       " ('Conrad', 'male'),\n",
       " ('Conroy', 'male'),\n",
       " ('Constantin', 'male'),\n",
       " ('Constantine', 'male'),\n",
       " ('Constantinos', 'male'),\n",
       " ('Conway', 'male'),\n",
       " ('Cooper', 'male'),\n",
       " ('Corbin', 'male'),\n",
       " ('Corby', 'male'),\n",
       " ('Corey', 'male'),\n",
       " ('Corky', 'male'),\n",
       " ('Cornelius', 'male'),\n",
       " ('Cornellis', 'male'),\n",
       " ('Corrie', 'male'),\n",
       " ('Cortese', 'male'),\n",
       " ('Corwin', 'male'),\n",
       " ('Cory', 'male'),\n",
       " ('Cosmo', 'male'),\n",
       " ('Costa', 'male'),\n",
       " ('Courtney', 'male'),\n",
       " ('Craig', 'male'),\n",
       " ('Crawford', 'male'),\n",
       " ('Creighton', 'male'),\n",
       " ('Cris', 'male'),\n",
       " ('Cristopher', 'male'),\n",
       " ('Curt', 'male'),\n",
       " ('Curtice', 'male'),\n",
       " ('Curtis', 'male'),\n",
       " ('Cy', 'male'),\n",
       " ('Cyril', 'male'),\n",
       " ('Cyrill', 'male'),\n",
       " ('Cyrille', 'male'),\n",
       " ('Cyrillus', 'male'),\n",
       " ('Cyrus', 'male'),\n",
       " ('Dabney', 'male'),\n",
       " ('Daffy', 'male'),\n",
       " ('Dale', 'male'),\n",
       " ('Dallas', 'male'),\n",
       " ('Dalton', 'male'),\n",
       " ('Damian', 'male'),\n",
       " ('Damien', 'male'),\n",
       " ('Damon', 'male'),\n",
       " ('Dan', 'male'),\n",
       " ('Dana', 'male'),\n",
       " ('Dane', 'male'),\n",
       " ('Dani', 'male'),\n",
       " ('Danie', 'male'),\n",
       " ('Daniel', 'male'),\n",
       " ('Dannie', 'male'),\n",
       " ('Danny', 'male'),\n",
       " ('Dante', 'male'),\n",
       " ('Darby', 'male'),\n",
       " ('Darcy', 'male'),\n",
       " ('Daren', 'male'),\n",
       " ('Darian', 'male'),\n",
       " ('Darien', 'male'),\n",
       " ('Darin', 'male'),\n",
       " ('Dario', 'male'),\n",
       " ('Darius', 'male'),\n",
       " ('Darrel', 'male'),\n",
       " ('Darrell', 'male'),\n",
       " ('Darren', 'male'),\n",
       " ('Darrick', 'male'),\n",
       " ('Darrin', 'male'),\n",
       " ('Darryl', 'male'),\n",
       " ('Darth', 'male'),\n",
       " ('Darwin', 'male'),\n",
       " ('Daryl', 'male'),\n",
       " ('Daryle', 'male'),\n",
       " ('Dave', 'male'),\n",
       " ('Davey', 'male'),\n",
       " ('David', 'male'),\n",
       " ('Davidde', 'male'),\n",
       " ('Davide', 'male'),\n",
       " ('Davidson', 'male'),\n",
       " ('Davie', 'male'),\n",
       " ('Davin', 'male'),\n",
       " ('Davis', 'male'),\n",
       " ('Davon', 'male'),\n",
       " ('Davoud', 'male'),\n",
       " ('Davy', 'male'),\n",
       " ('Dawson', 'male'),\n",
       " ('Dean', 'male'),\n",
       " ('Deane', 'male'),\n",
       " ('Del', 'male'),\n",
       " ('Delbert', 'male'),\n",
       " ('Dell', 'male'),\n",
       " ('Delmar', 'male'),\n",
       " ('Demetre', 'male'),\n",
       " ('Demetri', 'male'),\n",
       " ('Demetris', 'male'),\n",
       " ('Demetrius', 'male'),\n",
       " ('Demosthenis', 'male'),\n",
       " ('Denis', 'male'),\n",
       " ('Dennie', 'male'),\n",
       " ('Dennis', 'male'),\n",
       " ('Denny', 'male'),\n",
       " ('Derby', 'male'),\n",
       " ('Derek', 'male'),\n",
       " ('Derick', 'male'),\n",
       " ('Derk', 'male'),\n",
       " ('Derrek', 'male'),\n",
       " ('Derrick', 'male'),\n",
       " ('Derrin', 'male'),\n",
       " ('Derrol', 'male'),\n",
       " ('Derron', 'male'),\n",
       " ('Deryl', 'male'),\n",
       " ('Desmond', 'male'),\n",
       " ('Desmund', 'male'),\n",
       " ('Devin', 'male'),\n",
       " ('Devon', 'male'),\n",
       " ('Dewey', 'male'),\n",
       " ('Dewitt', 'male'),\n",
       " ('Dexter', 'male'),\n",
       " ('Dick', 'male'),\n",
       " ('Dickey', 'male'),\n",
       " ('Dickie', 'male'),\n",
       " ('Diego', 'male'),\n",
       " ('Dieter', 'male'),\n",
       " ('Dietrich', 'male'),\n",
       " ('Dillon', 'male'),\n",
       " ('Dimitri', 'male'),\n",
       " ('Dimitrios', 'male'),\n",
       " ('Dimitris', 'male'),\n",
       " ('Dimitrou', 'male'),\n",
       " ('Dimitry', 'male'),\n",
       " ('Dino', 'male'),\n",
       " ('Dion', 'male'),\n",
       " ('Dionis', 'male'),\n",
       " ('Dionysus', 'male'),\n",
       " ('Dirk', 'male'),\n",
       " ('Dmitri', 'male'),\n",
       " ('Dom', 'male'),\n",
       " ('Domenic', 'male'),\n",
       " ('Domenico', 'male'),\n",
       " ('Dominic', 'male'),\n",
       " ('Dominick', 'male'),\n",
       " ('Dominique', 'male'),\n",
       " ('Don', 'male'),\n",
       " ('Donal', 'male'),\n",
       " ('Donald', 'male'),\n",
       " ('Donn', 'male'),\n",
       " ('Donnie', 'male'),\n",
       " ('Donny', 'male'),\n",
       " ('Donovan', 'male'),\n",
       " ('Dorian', 'male'),\n",
       " ('Dory', 'male'),\n",
       " ('Doug', 'male'),\n",
       " ('Douggie', 'male'),\n",
       " ('Dougie', 'male'),\n",
       " ('Douglas', 'male'),\n",
       " ('Douglass', 'male'),\n",
       " ('Douglis', 'male'),\n",
       " ('Dov', 'male'),\n",
       " ('Doyle', 'male'),\n",
       " ('Drake', 'male'),\n",
       " ('Drew', 'male'),\n",
       " ('Dru', 'male'),\n",
       " ('Dryke', 'male'),\n",
       " ('Duane', 'male'),\n",
       " ('Dudley', 'male'),\n",
       " ('Duffie', 'male'),\n",
       " ('Duffy', 'male'),\n",
       " ('Dugan', 'male'),\n",
       " ('Duke', 'male'),\n",
       " ('Dunc', 'male'),\n",
       " ('Duncan', 'male'),\n",
       " ('Dunstan', 'male'),\n",
       " ('Durand', 'male'),\n",
       " ('Durant', 'male'),\n",
       " ('Durante', 'male'),\n",
       " ('Durward', 'male'),\n",
       " ('Dustin', 'male'),\n",
       " ('Dwain', 'male'),\n",
       " ('Dwaine', 'male'),\n",
       " ('Dwane', 'male'),\n",
       " ('Dwayne', 'male'),\n",
       " ('Dwight', 'male'),\n",
       " ('Dylan', 'male'),\n",
       " ('Dyson', 'male'),\n",
       " ('Earl', 'male'),\n",
       " ('Earle', 'male'),\n",
       " ('Easton', 'male'),\n",
       " ('Eben', 'male'),\n",
       " ('Ebeneser', 'male'),\n",
       " ('Ebenezer', 'male'),\n",
       " ('Eberhard', 'male'),\n",
       " ('Ed', 'male'),\n",
       " ('Eddie', 'male'),\n",
       " ('Eddy', 'male'),\n",
       " ('Edgar', 'male'),\n",
       " ('Edgardo', 'male'),\n",
       " ('Edie', 'male'),\n",
       " ('Edmond', 'male'),\n",
       " ('Edmund', 'male'),\n",
       " ('Edouard', 'male'),\n",
       " ('Edsel', 'male'),\n",
       " ('Eduard', 'male'),\n",
       " ('Eduardo', 'male'),\n",
       " ('Edward', 'male'),\n",
       " ('Edwin', 'male'),\n",
       " ('Efram', 'male'),\n",
       " ('Egbert', 'male'),\n",
       " ('Ehud', 'male'),\n",
       " ('Elbert', 'male'),\n",
       " ('Elden', 'male'),\n",
       " ('Eldon', 'male'),\n",
       " ('Eli', 'male'),\n",
       " ('Elias', 'male'),\n",
       " ('Elihu', 'male'),\n",
       " ('Elijah', 'male'),\n",
       " ('Eliot', 'male'),\n",
       " ('Eliott', 'male'),\n",
       " ('Elisha', 'male'),\n",
       " ('Elliot', 'male'),\n",
       " ('Elliott', 'male'),\n",
       " ('Ellis', 'male'),\n",
       " ('Ellsworth', 'male'),\n",
       " ('Ellwood', 'male'),\n",
       " ('Elmer', 'male'),\n",
       " ('Elmore', 'male'),\n",
       " ('Elnar', 'male'),\n",
       " ('Elric', 'male'),\n",
       " ('Elroy', 'male'),\n",
       " ('Elton', 'male'),\n",
       " ('Elvin', 'male'),\n",
       " ('Elvis', 'male'),\n",
       " ('Elwin', 'male'),\n",
       " ('Elwood', 'male'),\n",
       " ('Elwyn', 'male'),\n",
       " ('Ely', 'male'),\n",
       " ('Emanuel', 'male'),\n",
       " ('Emerson', 'male'),\n",
       " ('Emery', 'male'),\n",
       " ('Emil', 'male'),\n",
       " ('Emile', 'male'),\n",
       " ('Emilio', 'male'),\n",
       " ('Emmanuel', 'male'),\n",
       " ('Emmery', 'male'),\n",
       " ('Emmet', 'male'),\n",
       " ('Emmett', 'male'),\n",
       " ('Emmit', 'male'),\n",
       " ('Emmott', 'male'),\n",
       " ('Emmy', 'male'),\n",
       " ('Emory', 'male'),\n",
       " ('Ender', 'male'),\n",
       " ('Engelbart', 'male'),\n",
       " ('Engelbert', 'male'),\n",
       " ('Englebart', 'male'),\n",
       " ('Englebert', 'male'),\n",
       " ('Enoch', 'male'),\n",
       " ('Enrico', 'male'),\n",
       " ('Enrique', 'male'),\n",
       " ('Ephraim', 'male'),\n",
       " ('Ephram', 'male'),\n",
       " ('Ephrayim', 'male'),\n",
       " ('Ephrem', 'male'),\n",
       " ('Er', 'male'),\n",
       " ('Erasmus', 'male'),\n",
       " ('Erastus', 'male'),\n",
       " ('Erek', 'male'),\n",
       " ('Erhard', 'male'),\n",
       " ('Erhart', 'male'),\n",
       " ('Eric', 'male'),\n",
       " ('Erich', 'male'),\n",
       " ('Erick', 'male'),\n",
       " ('Erik', 'male'),\n",
       " ('Erin', 'male'),\n",
       " ('Erl', 'male'),\n",
       " ('Ernest', 'male'),\n",
       " ('Ernesto', 'male'),\n",
       " ('Ernie', 'male'),\n",
       " ('Ernst', 'male'),\n",
       " ('Erny', 'male'),\n",
       " ('Errol', 'male'),\n",
       " ('Ervin', 'male'),\n",
       " ('Erwin', 'male'),\n",
       " ('Esau', 'male'),\n",
       " ('Esme', 'male'),\n",
       " ('Esteban', 'male'),\n",
       " ('Ethan', 'male'),\n",
       " ('Ethelbert', 'male'),\n",
       " ('Ethelred', 'male'),\n",
       " ('Etienne', 'male'),\n",
       " ('Euclid', 'male'),\n",
       " ('Eugen', 'male'),\n",
       " ('Eugene', 'male'),\n",
       " ('Eustace', 'male'),\n",
       " ('Ev', 'male'),\n",
       " ('Evan', 'male'),\n",
       " ('Evelyn', 'male'),\n",
       " ('Everard', 'male'),\n",
       " ('Everett', 'male'),\n",
       " ('Ewan', 'male'),\n",
       " ('Ewart', 'male'),\n",
       " ('Ez', 'male'),\n",
       " ('Ezechiel', 'male'),\n",
       " ('Ezekiel', 'male'),\n",
       " ('Ezra', 'male'),\n",
       " ('Fabian', 'male'),\n",
       " ('Fabio', 'male'),\n",
       " ('Fairfax', 'male'),\n",
       " ('Farley', 'male'),\n",
       " ('Fazeel', 'male'),\n",
       " ('Federico', 'male'),\n",
       " ('Felice', 'male'),\n",
       " ('Felicio', 'male'),\n",
       " ('Felipe', 'male'),\n",
       " ('Felix', 'male'),\n",
       " ('Ferd', 'male'),\n",
       " ('Ferdie', 'male'),\n",
       " ('Ferdinand', 'male'),\n",
       " ('Ferdy', 'male'),\n",
       " ('Fergus', 'male'),\n",
       " ('Ferguson', 'male'),\n",
       " ('Ferinand', 'male'),\n",
       " ('Fernando', 'male'),\n",
       " ('Fidel', 'male'),\n",
       " ('Filbert', 'male'),\n",
       " ('Filip', 'male'),\n",
       " ('Filipe', 'male'),\n",
       " ('Filmore', 'male'),\n",
       " ('Finley', 'male'),\n",
       " ('Finn', 'male'),\n",
       " ('Fitz', 'male'),\n",
       " ('Fitzgerald', 'male'),\n",
       " ('Flem', 'male'),\n",
       " ('Fleming', 'male'),\n",
       " ('Flemming', 'male'),\n",
       " ('Fletch', 'male'),\n",
       " ('Fletcher', 'male'),\n",
       " ('Flin', 'male'),\n",
       " ('Flinn', 'male'),\n",
       " ('Flint', 'male'),\n",
       " ('Flipper', 'male'),\n",
       " ('Florian', 'male'),\n",
       " ('Floyd', 'male'),\n",
       " ('Flynn', 'male'),\n",
       " ('Fons', 'male'),\n",
       " ('Fonsie', 'male'),\n",
       " ('Fonz', 'male'),\n",
       " ('Fonzie', 'male'),\n",
       " ('Forbes', 'male'),\n",
       " ('Ford', 'male'),\n",
       " ('Forest', 'male'),\n",
       " ('Forester', 'male'),\n",
       " ('Forrest', 'male'),\n",
       " ('Forrester', 'male'),\n",
       " ('Forster', 'male'),\n",
       " ('Foster', 'male'),\n",
       " ('Fowler', 'male'),\n",
       " ('Fox', 'male'),\n",
       " ('Fran', 'male'),\n",
       " ('Francesco', 'male'),\n",
       " ('Francis', 'male'),\n",
       " ('Francisco', 'male'),\n",
       " ('Francois', 'male'),\n",
       " ('Frank', 'male'),\n",
       " ('Frankie', 'male'),\n",
       " ('Franklin', 'male'),\n",
       " ('Franklyn', 'male'),\n",
       " ('Franky', 'male'),\n",
       " ('Frans', 'male'),\n",
       " ('Franz', 'male'),\n",
       " ('Fraser', 'male'),\n",
       " ('Frazier', 'male'),\n",
       " ('Fred', 'male'),\n",
       " ('Freddie', 'male'),\n",
       " ('Freddy', 'male'),\n",
       " ('Frederic', 'male'),\n",
       " ('Frederich', 'male'),\n",
       " ('Frederick', 'male'),\n",
       " ('Frederico', 'male'),\n",
       " ('Frederik', 'male'),\n",
       " ('Fredric', 'male'),\n",
       " ('Fredrick', 'male'),\n",
       " ('Freeman', 'male'),\n",
       " ('Freemon', 'male'),\n",
       " ('Fremont', 'male'),\n",
       " ('French', 'male'),\n",
       " ('Friedric', 'male'),\n",
       " ('Friedrich', 'male'),\n",
       " ('Friedrick', 'male'),\n",
       " ('Fritz', 'male'),\n",
       " ('Fulton', 'male'),\n",
       " ('Fyodor', 'male'),\n",
       " ('Gabe', 'male'),\n",
       " ('Gabriel', 'male'),\n",
       " ('Gabriele', 'male'),\n",
       " ('Gabriell', 'male'),\n",
       " ('Gabriello', 'male'),\n",
       " ('Gail', 'male'),\n",
       " ('Gale', 'male'),\n",
       " ('Galen', 'male'),\n",
       " ('Gallagher', 'male'),\n",
       " ('Gamaliel', 'male'),\n",
       " ('Garcia', 'male'),\n",
       " ('Garcon', 'male'),\n",
       " ('Gardener', 'male'),\n",
       " ('Gardiner', 'male'),\n",
       " ('Gardner', 'male'),\n",
       " ('Garey', 'male'),\n",
       " ('Garfield', 'male'),\n",
       " ('Garfinkel', 'male'),\n",
       " ('Garold', 'male'),\n",
       " ('Garp', 'male'),\n",
       " ('Garret', 'male'),\n",
       " ('Garrett', 'male'),\n",
       " ('Garrot', 'male'),\n",
       " ('Garrott', 'male'),\n",
       " ('Garry', 'male'),\n",
       " ('Garth', 'male'),\n",
       " ('Garv', 'male'),\n",
       " ('Garvey', 'male'),\n",
       " ('Garvin', 'male'),\n",
       " ('Garvy', 'male'),\n",
       " ('Garwin', 'male'),\n",
       " ('Garwood', 'male'),\n",
       " ('Gary', 'male'),\n",
       " ('Gaspar', 'male'),\n",
       " ('Gasper', 'male'),\n",
       " ('Gaston', 'male'),\n",
       " ('Gav', 'male'),\n",
       " ('Gaven', 'male'),\n",
       " ('Gavin', 'male'),\n",
       " ('Gavriel', 'male'),\n",
       " ('Gay', 'male'),\n",
       " ('Gayle', 'male'),\n",
       " ('Gearard', 'male'),\n",
       " ('Gene', 'male'),\n",
       " ('Geo', 'male'),\n",
       " ('Geof', 'male'),\n",
       " ('Geoff', 'male'),\n",
       " ('Geoffrey', 'male'),\n",
       " ('Geoffry', 'male'),\n",
       " ('Georg', 'male'),\n",
       " ('George', 'male'),\n",
       " ('Georges', 'male'),\n",
       " ('Georgia', 'male'),\n",
       " ('Georgie', 'male'),\n",
       " ('Georgy', 'male'),\n",
       " ('Gerald', 'male'),\n",
       " ('Geraldo', 'male'),\n",
       " ('Gerard', 'male'),\n",
       " ('Gere', 'male'),\n",
       " ('Gerhard', 'male'),\n",
       " ('Gerhardt', 'male'),\n",
       " ('Geri', 'male'),\n",
       " ('Germaine', 'male'),\n",
       " ('Gerold', 'male'),\n",
       " ('Gerome', 'male'),\n",
       " ('Gerrard', 'male'),\n",
       " ('Gerri', 'male'),\n",
       " ('Gerrit', 'male'),\n",
       " ('Gerry', 'male'),\n",
       " ('Gershom', 'male'),\n",
       " ('Gershon', 'male'),\n",
       " ('Giacomo', 'male'),\n",
       " ('Gian', 'male'),\n",
       " ('Giancarlo', 'male'),\n",
       " ('Giavani', 'male'),\n",
       " ('Gibb', 'male'),\n",
       " ('Gideon', 'male'),\n",
       " ('Giff', 'male'),\n",
       " ('Giffard', 'male'),\n",
       " ('Giffer', 'male'),\n",
       " ('Giffie', 'male'),\n",
       " ('Gifford', 'male'),\n",
       " ('Giffy', 'male'),\n",
       " ('Gil', 'male'),\n",
       " ('Gilbert', 'male'),\n",
       " ('Gilberto', 'male'),\n",
       " ('Gilburt', 'male'),\n",
       " ('Giles', 'male'),\n",
       " ('Gill', 'male'),\n",
       " ('Gilles', 'male'),\n",
       " ('Ginger', 'male'),\n",
       " ('Gino', 'male'),\n",
       " ('Giordano', 'male'),\n",
       " ('Giorgi', 'male'),\n",
       " ('Giorgio', 'male'),\n",
       " ('Giovanne', 'male'),\n",
       " ...]"
      ]
     },
     "execution_count": 4,
     "metadata": {},
     "output_type": "execute_result"
    }
   ],
   "source": [
    "names"
   ]
  },
  {
   "cell_type": "code",
   "execution_count": 5,
   "metadata": {
    "collapsed": true
   },
   "outputs": [],
   "source": [
    "random.shuffle(names)"
   ]
  },
  {
   "cell_type": "code",
   "execution_count": 6,
   "metadata": {},
   "outputs": [
    {
     "data": {
      "text/plain": [
       "7944"
      ]
     },
     "execution_count": 6,
     "metadata": {},
     "output_type": "execute_result"
    }
   ],
   "source": [
    "len(names)"
   ]
  },
  {
   "cell_type": "code",
   "execution_count": 7,
   "metadata": {},
   "outputs": [
    {
     "data": {
      "text/plain": [
       "[('Filip', 'male'),\n",
       " ('Maurits', 'male'),\n",
       " ('Gipsy', 'female'),\n",
       " ('Bennett', 'male'),\n",
       " ('Alston', 'male'),\n",
       " ('Trenna', 'female'),\n",
       " ('Mona', 'female'),\n",
       " ('Goldina', 'female'),\n",
       " ('Jock', 'male'),\n",
       " ('Jade', 'female')]"
      ]
     },
     "execution_count": 7,
     "metadata": {},
     "output_type": "execute_result"
    }
   ],
   "source": [
    "names[0:10]"
   ]
  },
  {
   "cell_type": "markdown",
   "metadata": {},
   "source": [
    "The dictionary that is returned by this function is called a feature set and maps from features’ names to their values. Feature set is core part for NLTK Classifier, we can use the feature extractor to extract feature sets for NLTK Classifier and segment them into training set and testing set:"
   ]
  },
  {
   "cell_type": "code",
   "execution_count": 9,
   "metadata": {},
   "outputs": [
    {
     "data": {
      "text/plain": [
       "{'last_letter': 'h'}"
      ]
     },
     "execution_count": 9,
     "metadata": {},
     "output_type": "execute_result"
    }
   ],
   "source": [
    "def gender_features(word):\n",
    "    return {'last_letter': word[-1]}\n",
    "\n",
    "gender_features('Lohith')"
   ]
  },
  {
   "cell_type": "code",
   "execution_count": 10,
   "metadata": {
    "collapsed": true
   },
   "outputs": [],
   "source": [
    "featuresets = [(gender_features(n), g) for (n, g) in names]"
   ]
  },
  {
   "cell_type": "code",
   "execution_count": 11,
   "metadata": {},
   "outputs": [
    {
     "data": {
      "text/plain": [
       "7944"
      ]
     },
     "execution_count": 11,
     "metadata": {},
     "output_type": "execute_result"
    }
   ],
   "source": [
    "len(featuresets)"
   ]
  },
  {
   "cell_type": "code",
   "execution_count": 12,
   "metadata": {},
   "outputs": [
    {
     "data": {
      "text/plain": [
       "[({'last_letter': 'p'}, 'male'),\n",
       " ({'last_letter': 's'}, 'male'),\n",
       " ({'last_letter': 'y'}, 'female'),\n",
       " ({'last_letter': 't'}, 'male'),\n",
       " ({'last_letter': 'n'}, 'male'),\n",
       " ({'last_letter': 'a'}, 'female'),\n",
       " ({'last_letter': 'a'}, 'female'),\n",
       " ({'last_letter': 'a'}, 'female'),\n",
       " ({'last_letter': 'k'}, 'male'),\n",
       " ({'last_letter': 'e'}, 'female'),\n",
       " ({'last_letter': 'y'}, 'female'),\n",
       " ({'last_letter': 'y'}, 'male'),\n",
       " ({'last_letter': 'e'}, 'female'),\n",
       " ({'last_letter': 'l'}, 'female'),\n",
       " ({'last_letter': 'a'}, 'female'),\n",
       " ({'last_letter': 'a'}, 'female'),\n",
       " ({'last_letter': 'l'}, 'male'),\n",
       " ({'last_letter': 's'}, 'female'),\n",
       " ({'last_letter': 'r'}, 'male'),\n",
       " ({'last_letter': 'a'}, 'female')]"
      ]
     },
     "execution_count": 12,
     "metadata": {},
     "output_type": "execute_result"
    }
   ],
   "source": [
    "featuresets[0:20]"
   ]
  },
  {
   "cell_type": "code",
   "execution_count": 13,
   "metadata": {
    "collapsed": true
   },
   "outputs": [],
   "source": [
    "train_set, test_set = featuresets[500:], featuresets[:500]"
   ]
  },
  {
   "cell_type": "code",
   "execution_count": 14,
   "metadata": {},
   "outputs": [
    {
     "data": {
      "text/plain": [
       "7444"
      ]
     },
     "execution_count": 14,
     "metadata": {},
     "output_type": "execute_result"
    }
   ],
   "source": [
    "len(train_set)"
   ]
  },
  {
   "cell_type": "code",
   "execution_count": 15,
   "metadata": {},
   "outputs": [
    {
     "data": {
      "text/plain": [
       "500"
      ]
     },
     "execution_count": 15,
     "metadata": {},
     "output_type": "execute_result"
    }
   ],
   "source": [
    "len(test_set)"
   ]
  },
  {
   "cell_type": "markdown",
   "metadata": {},
   "source": [
    "## A learning algorithm is very useful for a classifier, here we will show you how to use the Naive Bayes and Maximum Entropy Model to train a NaiveBayes and Maxent Classifier, where Naive Bayes is the Generative Model and Maxent is Discriminative Model.\n",
    "\n",
    "#### Here is how to train a Naive Bayes classifier for Gender Identification:"
   ]
  },
  {
   "cell_type": "code",
   "execution_count": 16,
   "metadata": {
    "collapsed": true
   },
   "outputs": [],
   "source": [
    "from nltk import NaiveBayesClassifier"
   ]
  },
  {
   "cell_type": "code",
   "execution_count": 17,
   "metadata": {
    "collapsed": true
   },
   "outputs": [],
   "source": [
    "nb_classifier = NaiveBayesClassifier.train(train_set)"
   ]
  },
  {
   "cell_type": "code",
   "execution_count": 18,
   "metadata": {},
   "outputs": [
    {
     "data": {
      "text/plain": [
       "'female'"
      ]
     },
     "execution_count": 18,
     "metadata": {},
     "output_type": "execute_result"
    }
   ],
   "source": [
    "nb_classifier.classify(gender_features('Gary'))"
   ]
  },
  {
   "cell_type": "code",
   "execution_count": 19,
   "metadata": {},
   "outputs": [
    {
     "data": {
      "text/plain": [
       "'female'"
      ]
     },
     "execution_count": 19,
     "metadata": {},
     "output_type": "execute_result"
    }
   ],
   "source": [
    "nb_classifier.classify(gender_features('Grace'))"
   ]
  },
  {
   "cell_type": "code",
   "execution_count": 20,
   "metadata": {
    "collapsed": true
   },
   "outputs": [],
   "source": [
    "from nltk import classify"
   ]
  },
  {
   "cell_type": "code",
   "execution_count": 21,
   "metadata": {},
   "outputs": [
    {
     "data": {
      "text/plain": [
       "0.756"
      ]
     },
     "execution_count": 21,
     "metadata": {},
     "output_type": "execute_result"
    }
   ],
   "source": [
    "classify.accuracy(nb_classifier, test_set)"
   ]
  },
  {
   "cell_type": "code",
   "execution_count": 22,
   "metadata": {},
   "outputs": [
    {
     "name": "stdout",
     "output_type": "stream",
     "text": [
      "Most Informative Features\n",
      "             last_letter = 'a'            female : male   =     34.5 : 1.0\n",
      "             last_letter = 'k'              male : female =     31.2 : 1.0\n",
      "             last_letter = 'f'              male : female =     17.3 : 1.0\n",
      "             last_letter = 'v'              male : female =     11.2 : 1.0\n",
      "             last_letter = 'p'              male : female =     11.2 : 1.0\n"
     ]
    }
   ],
   "source": [
    "nb_classifier.show_most_informative_features(5)"
   ]
  },
  {
   "cell_type": "markdown",
   "metadata": {},
   "source": [
    "#### Here is how to train a Maximum Entropy Classifier for Gender Identification:"
   ]
  },
  {
   "cell_type": "code",
   "execution_count": 23,
   "metadata": {
    "collapsed": true
   },
   "outputs": [],
   "source": [
    "from nltk import MaxentClassifier"
   ]
  },
  {
   "cell_type": "code",
   "execution_count": 24,
   "metadata": {},
   "outputs": [
    {
     "name": "stdout",
     "output_type": "stream",
     "text": [
      "  ==> Training (100 iterations)\n",
      "\n",
      "      Iteration    Log Likelihood    Accuracy\n",
      "      ---------------------------------------\n",
      "             1          -0.69315        0.371\n",
      "             2          -0.37438        0.763\n",
      "             3          -0.37396        0.763\n",
      "             4          -0.37371        0.763\n",
      "             5          -0.37354        0.763\n",
      "             6          -0.37342        0.763\n",
      "             7          -0.37332        0.763\n",
      "             8          -0.37325        0.763\n",
      "             9          -0.37320        0.763\n",
      "            10          -0.37315        0.763\n",
      "            11          -0.37311        0.763\n",
      "            12          -0.37308        0.763\n",
      "            13          -0.37305        0.763\n",
      "            14          -0.37303        0.763\n",
      "            15          -0.37301        0.763\n",
      "            16          -0.37299        0.763\n",
      "            17          -0.37297        0.763\n",
      "            18          -0.37296        0.763\n",
      "            19          -0.37294        0.763\n",
      "            20          -0.37293        0.763\n",
      "            21          -0.37292        0.763\n",
      "            22          -0.37291        0.763\n",
      "            23          -0.37290        0.763\n",
      "            24          -0.37289        0.763\n",
      "            25          -0.37289        0.763\n",
      "            26          -0.37288        0.763\n",
      "            27          -0.37287        0.763\n",
      "            28          -0.37287        0.763\n",
      "            29          -0.37286        0.763\n",
      "            30          -0.37285        0.763\n",
      "            31          -0.37285        0.763\n",
      "            32          -0.37284        0.763\n",
      "            33          -0.37284        0.763\n",
      "            34          -0.37284        0.763\n",
      "            35          -0.37283        0.763\n",
      "            36          -0.37283        0.763\n",
      "            37          -0.37282        0.763\n",
      "            38          -0.37282        0.763\n",
      "            39          -0.37282        0.763\n",
      "            40          -0.37281        0.763\n",
      "            41          -0.37281        0.763\n",
      "            42          -0.37281        0.763\n",
      "            43          -0.37281        0.763\n",
      "            44          -0.37280        0.763\n",
      "            45          -0.37280        0.763\n",
      "            46          -0.37280        0.763\n",
      "            47          -0.37280        0.763\n",
      "            48          -0.37279        0.763\n",
      "            49          -0.37279        0.763\n",
      "            50          -0.37279        0.763\n",
      "            51          -0.37279        0.763\n",
      "            52          -0.37279        0.763\n",
      "            53          -0.37278        0.763\n",
      "            54          -0.37278        0.763\n",
      "            55          -0.37278        0.763\n",
      "            56          -0.37278        0.763\n",
      "            57          -0.37278        0.763\n",
      "            58          -0.37278        0.763\n",
      "            59          -0.37278        0.763\n",
      "            60          -0.37277        0.763\n",
      "            61          -0.37277        0.763\n",
      "            62          -0.37277        0.763\n",
      "            63          -0.37277        0.763\n",
      "            64          -0.37277        0.763\n",
      "            65          -0.37277        0.763\n",
      "            66          -0.37277        0.763\n",
      "            67          -0.37277        0.763\n",
      "            68          -0.37276        0.763\n",
      "            69          -0.37276        0.763\n",
      "            70          -0.37276        0.763\n",
      "            71          -0.37276        0.763\n",
      "            72          -0.37276        0.763\n",
      "            73          -0.37276        0.763\n",
      "            74          -0.37276        0.763\n",
      "            75          -0.37276        0.763\n",
      "            76          -0.37276        0.763\n",
      "            77          -0.37276        0.763\n",
      "            78          -0.37275        0.763\n",
      "            79          -0.37275        0.763\n",
      "            80          -0.37275        0.763\n",
      "            81          -0.37275        0.763\n",
      "            82          -0.37275        0.763\n",
      "            83          -0.37275        0.763\n",
      "            84          -0.37275        0.763\n",
      "            85          -0.37275        0.763\n",
      "            86          -0.37275        0.763\n",
      "            87          -0.37275        0.763\n",
      "            88          -0.37275        0.763\n",
      "            89          -0.37275        0.763\n",
      "            90          -0.37275        0.763\n",
      "            91          -0.37275        0.763\n",
      "            92          -0.37275        0.763\n",
      "            93          -0.37274        0.763\n",
      "            94          -0.37274        0.763\n",
      "            95          -0.37274        0.763\n",
      "            96          -0.37274        0.763\n",
      "            97          -0.37274        0.763\n",
      "            98          -0.37274        0.763\n",
      "            99          -0.37274        0.763\n",
      "         Final          -0.37274        0.763\n"
     ]
    }
   ],
   "source": [
    "me_classifier = MaxentClassifier.train(train_set)"
   ]
  },
  {
   "cell_type": "code",
   "execution_count": 25,
   "metadata": {},
   "outputs": [
    {
     "data": {
      "text/plain": [
       "'female'"
      ]
     },
     "execution_count": 25,
     "metadata": {},
     "output_type": "execute_result"
    }
   ],
   "source": [
    "me_classifier.classify(gender_features('Gary'))"
   ]
  },
  {
   "cell_type": "code",
   "execution_count": 26,
   "metadata": {},
   "outputs": [
    {
     "data": {
      "text/plain": [
       "'female'"
      ]
     },
     "execution_count": 26,
     "metadata": {},
     "output_type": "execute_result"
    }
   ],
   "source": [
    "me_classifier.classify(gender_features('Grace'))"
   ]
  },
  {
   "cell_type": "code",
   "execution_count": 27,
   "metadata": {},
   "outputs": [
    {
     "data": {
      "text/plain": [
       "0.756"
      ]
     },
     "execution_count": 27,
     "metadata": {},
     "output_type": "execute_result"
    }
   ],
   "source": [
    "classify.accuracy(me_classifier, test_set)"
   ]
  },
  {
   "cell_type": "code",
   "execution_count": 28,
   "metadata": {},
   "outputs": [
    {
     "name": "stdout",
     "output_type": "stream",
     "text": [
      "   6.644 last_letter==' ' and label is 'female'\n",
      "   6.644 last_letter=='c' and label is 'male'\n",
      "  -4.918 last_letter=='a' and label is 'male'\n",
      "  -3.481 last_letter=='k' and label is 'female'\n",
      "  -2.755 last_letter=='f' and label is 'female'\n"
     ]
    }
   ],
   "source": [
    "me_classifier.show_most_informative_features(5)"
   ]
  },
  {
   "cell_type": "markdown",
   "metadata": {},
   "source": [
    "## It seems that Naive Bayes and Maxent Model have the same result on this Gender Task, but that’s not true. Choosing right features and deciding how to encode them for the task have an big impact on the performance. Here we define a more complex feature extractor function and train the model again: "
   ]
  },
  {
   "cell_type": "code",
   "execution_count": 29,
   "metadata": {
    "collapsed": true
   },
   "outputs": [],
   "source": [
    "def gender_features2(name):\n",
    "    features = {}\n",
    "    features[\"firstletter\"] = name[0].lower()\n",
    "    features[\"lastletter\"] = name[-1].lower()\n",
    "    for letter in 'abcdefghijklmnopqrstuvwxyz':\n",
    "        features[\"count(%s)\" % letter] = name.lower().count(letter)\n",
    "        features[\"has(%s)\" % letter] = (letter in name.lower())\n",
    "    return features"
   ]
  },
  {
   "cell_type": "code",
   "execution_count": 30,
   "metadata": {},
   "outputs": [
    {
     "data": {
      "text/plain": [
       "{'count(a)': 1,\n",
       " 'count(b)': 0,\n",
       " 'count(c)': 0,\n",
       " 'count(d)': 0,\n",
       " 'count(e)': 0,\n",
       " 'count(f)': 0,\n",
       " 'count(g)': 1,\n",
       " 'count(h)': 0,\n",
       " 'count(i)': 0,\n",
       " 'count(j)': 0,\n",
       " 'count(k)': 0,\n",
       " 'count(l)': 0,\n",
       " 'count(m)': 0,\n",
       " 'count(n)': 0,\n",
       " 'count(o)': 0,\n",
       " 'count(p)': 0,\n",
       " 'count(q)': 0,\n",
       " 'count(r)': 1,\n",
       " 'count(s)': 0,\n",
       " 'count(t)': 0,\n",
       " 'count(u)': 0,\n",
       " 'count(v)': 0,\n",
       " 'count(w)': 0,\n",
       " 'count(x)': 0,\n",
       " 'count(y)': 1,\n",
       " 'count(z)': 0,\n",
       " 'firstletter': 'g',\n",
       " 'has(a)': True,\n",
       " 'has(b)': False,\n",
       " 'has(c)': False,\n",
       " 'has(d)': False,\n",
       " 'has(e)': False,\n",
       " 'has(f)': False,\n",
       " 'has(g)': True,\n",
       " 'has(h)': False,\n",
       " 'has(i)': False,\n",
       " 'has(j)': False,\n",
       " 'has(k)': False,\n",
       " 'has(l)': False,\n",
       " 'has(m)': False,\n",
       " 'has(n)': False,\n",
       " 'has(o)': False,\n",
       " 'has(p)': False,\n",
       " 'has(q)': False,\n",
       " 'has(r)': True,\n",
       " 'has(s)': False,\n",
       " 'has(t)': False,\n",
       " 'has(u)': False,\n",
       " 'has(v)': False,\n",
       " 'has(w)': False,\n",
       " 'has(x)': False,\n",
       " 'has(y)': True,\n",
       " 'has(z)': False,\n",
       " 'lastletter': 'y'}"
      ]
     },
     "execution_count": 30,
     "metadata": {},
     "output_type": "execute_result"
    }
   ],
   "source": [
    "gender_features2('Gary')"
   ]
  },
  {
   "cell_type": "code",
   "execution_count": 31,
   "metadata": {
    "collapsed": true
   },
   "outputs": [],
   "source": [
    "featuresets = [(gender_features2(n), g) for (n, g) in names]"
   ]
  },
  {
   "cell_type": "code",
   "execution_count": 32,
   "metadata": {
    "collapsed": true
   },
   "outputs": [],
   "source": [
    "train_set, test_set = featuresets[500:], featuresets[:500]"
   ]
  },
  {
   "cell_type": "code",
   "execution_count": 33,
   "metadata": {
    "collapsed": true
   },
   "outputs": [],
   "source": [
    "nb2_classifier = NaiveBayesClassifier.train(train_set)"
   ]
  },
  {
   "cell_type": "code",
   "execution_count": 34,
   "metadata": {},
   "outputs": [
    {
     "data": {
      "text/plain": [
       "0.792"
      ]
     },
     "execution_count": 34,
     "metadata": {},
     "output_type": "execute_result"
    }
   ],
   "source": [
    "classify.accuracy(nb2_classifier, test_set)"
   ]
  },
  {
   "cell_type": "code",
   "execution_count": 35,
   "metadata": {},
   "outputs": [
    {
     "name": "stdout",
     "output_type": "stream",
     "text": [
      "  ==> Training (100 iterations)\n",
      "\n",
      "      Iteration    Log Likelihood    Accuracy\n",
      "      ---------------------------------------\n",
      "             1          -0.69315        0.371\n",
      "             2          -0.61247        0.629\n",
      "             3          -0.59850        0.629\n",
      "             4          -0.58534        0.630\n",
      "             5          -0.57296        0.636\n",
      "             6          -0.56133        0.651\n",
      "             7          -0.55041        0.669\n",
      "             8          -0.54017        0.687\n",
      "             9          -0.53056        0.702\n",
      "            10          -0.52153        0.713\n",
      "            11          -0.51306        0.724\n",
      "            12          -0.50509        0.735\n",
      "            13          -0.49759        0.742\n",
      "            14          -0.49054        0.749\n",
      "            15          -0.48388        0.753\n",
      "            16          -0.47760        0.757\n",
      "            17          -0.47168        0.762\n",
      "            18          -0.46607        0.764\n",
      "            19          -0.46076        0.768\n",
      "            20          -0.45573        0.770\n",
      "            21          -0.45096        0.772\n",
      "            22          -0.44644        0.774\n",
      "            23          -0.44213        0.775\n",
      "            24          -0.43804        0.778\n",
      "            25          -0.43414        0.780\n",
      "            26          -0.43043        0.780\n",
      "            27          -0.42689        0.781\n",
      "            28          -0.42350        0.782\n",
      "            29          -0.42027        0.783\n",
      "            30          -0.41718        0.784\n",
      "            31          -0.41423        0.786\n",
      "            32          -0.41140        0.787\n",
      "            33          -0.40869        0.787\n",
      "            34          -0.40609        0.788\n",
      "            35          -0.40359        0.789\n",
      "            36          -0.40120        0.789\n",
      "            37          -0.39890        0.790\n",
      "            38          -0.39668        0.791\n",
      "            39          -0.39456        0.790\n",
      "            40          -0.39251        0.791\n",
      "            41          -0.39054        0.792\n",
      "            42          -0.38864        0.792\n",
      "            43          -0.38681        0.793\n",
      "            44          -0.38504        0.793\n",
      "            45          -0.38334        0.794\n",
      "            46          -0.38169        0.795\n",
      "            47          -0.38010        0.794\n",
      "            48          -0.37857        0.794\n",
      "            49          -0.37709        0.795\n",
      "            50          -0.37565        0.796\n",
      "            51          -0.37426        0.796\n",
      "            52          -0.37292        0.796\n",
      "            53          -0.37162        0.796\n",
      "            54          -0.37036        0.796\n",
      "            55          -0.36914        0.797\n",
      "            56          -0.36796        0.797\n",
      "            57          -0.36681        0.797\n",
      "            58          -0.36570        0.798\n",
      "            59          -0.36462        0.798\n",
      "            60          -0.36357        0.798\n",
      "            61          -0.36256        0.798\n",
      "            62          -0.36157        0.799\n",
      "            63          -0.36061        0.799\n",
      "            64          -0.35968        0.800\n",
      "            65          -0.35877        0.800\n",
      "            66          -0.35789        0.801\n",
      "            67          -0.35703        0.801\n",
      "            68          -0.35620        0.800\n",
      "            69          -0.35538        0.800\n",
      "            70          -0.35459        0.800\n",
      "            71          -0.35383        0.801\n",
      "            72          -0.35308        0.801\n",
      "            73          -0.35235        0.801\n",
      "            74          -0.35163        0.800\n",
      "            75          -0.35094        0.801\n",
      "            76          -0.35026        0.800\n",
      "            77          -0.34961        0.801\n",
      "            78          -0.34896        0.801\n",
      "            79          -0.34834        0.801\n",
      "            80          -0.34772        0.801\n",
      "            81          -0.34713        0.801\n",
      "            82          -0.34654        0.802\n",
      "            83          -0.34597        0.802\n",
      "            84          -0.34542        0.802\n",
      "            85          -0.34487        0.802\n",
      "            86          -0.34434        0.802\n",
      "            87          -0.34383        0.802\n",
      "            88          -0.34332        0.802\n",
      "            89          -0.34282        0.802\n",
      "            90          -0.34234        0.802\n",
      "            91          -0.34186        0.802\n",
      "            92          -0.34140        0.802\n",
      "            93          -0.34095        0.802\n",
      "            94          -0.34050        0.801\n",
      "            95          -0.34007        0.802\n",
      "            96          -0.33964        0.802\n",
      "            97          -0.33923        0.802\n",
      "            98          -0.33882        0.802\n",
      "            99          -0.33842        0.802\n",
      "         Final          -0.33803        0.802\n"
     ]
    }
   ],
   "source": [
    "me2_classifier = MaxentClassifier.train(train_set)  ### This takes a while"
   ]
  },
  {
   "cell_type": "code",
   "execution_count": 36,
   "metadata": {},
   "outputs": [
    {
     "data": {
      "text/plain": [
       "0.82"
      ]
     },
     "execution_count": 36,
     "metadata": {},
     "output_type": "execute_result"
    }
   ],
   "source": [
    "classify.accuracy(me2_classifier, test_set)"
   ]
  },
  {
   "cell_type": "markdown",
   "metadata": {},
   "source": [
    "## It seems that more features make Maximum Entropy Model more accurate, but more slow when training it. We can define the third feature extractor function and train Naive Bayes and Maxent Classifier models again:"
   ]
  },
  {
   "cell_type": "code",
   "execution_count": 38,
   "metadata": {},
   "outputs": [],
   "source": [
    "def gender_features3(name):\n",
    "    features = {}\n",
    "    features[\"fl\"] = name[0].lower()  ### first letter\n",
    "    features[\"ll\"] = name[-1].lower()  ## last letter\n",
    "    features[\"fw\"] = name[:2].lower()  ## first word/first 2 letters\n",
    "    features[\"lw\"] = name[-2:].lower() ## last word with last 2 letters\n",
    "    return features"
   ]
  },
  {
   "cell_type": "code",
   "execution_count": 39,
   "metadata": {},
   "outputs": [
    {
     "data": {
      "text/plain": [
       "{'fl': 'g', 'fw': 'ga', 'll': 'y', 'lw': 'ry'}"
      ]
     },
     "execution_count": 39,
     "metadata": {},
     "output_type": "execute_result"
    }
   ],
   "source": [
    "gender_features3('Gary')"
   ]
  },
  {
   "cell_type": "code",
   "execution_count": 40,
   "metadata": {},
   "outputs": [
    {
     "data": {
      "text/plain": [
       "{'fl': 'g', 'fw': 'g', 'll': 'g', 'lw': 'g'}"
      ]
     },
     "execution_count": 40,
     "metadata": {},
     "output_type": "execute_result"
    }
   ],
   "source": [
    "gender_features3('G')"
   ]
  },
  {
   "cell_type": "code",
   "execution_count": 41,
   "metadata": {
    "collapsed": true
   },
   "outputs": [],
   "source": [
    "featuresets = [(gender_features3(n), g) for (n, g) in names]"
   ]
  },
  {
   "cell_type": "code",
   "execution_count": 42,
   "metadata": {},
   "outputs": [
    {
     "data": {
      "text/plain": [
       "({'fl': 'f', 'fw': 'fi', 'll': 'p', 'lw': 'ip'}, 'male')"
      ]
     },
     "execution_count": 42,
     "metadata": {},
     "output_type": "execute_result"
    }
   ],
   "source": [
    "featuresets[0]"
   ]
  },
  {
   "cell_type": "code",
   "execution_count": 43,
   "metadata": {},
   "outputs": [
    {
     "data": {
      "text/plain": [
       "7944"
      ]
     },
     "execution_count": 43,
     "metadata": {},
     "output_type": "execute_result"
    }
   ],
   "source": [
    "len(featuresets)"
   ]
  },
  {
   "cell_type": "code",
   "execution_count": 44,
   "metadata": {
    "collapsed": true
   },
   "outputs": [],
   "source": [
    "train_set, test_set = featuresets[500:], featuresets[:500]"
   ]
  },
  {
   "cell_type": "code",
   "execution_count": 45,
   "metadata": {
    "collapsed": true
   },
   "outputs": [],
   "source": [
    "nb3_classifier = NaiveBayesClassifier.train(train_set)"
   ]
  },
  {
   "cell_type": "code",
   "execution_count": 46,
   "metadata": {},
   "outputs": [
    {
     "data": {
      "text/plain": [
       "0.83"
      ]
     },
     "execution_count": 46,
     "metadata": {},
     "output_type": "execute_result"
    }
   ],
   "source": [
    "classify.accuracy(nb3_classifier, test_set)"
   ]
  },
  {
   "cell_type": "code",
   "execution_count": 47,
   "metadata": {},
   "outputs": [
    {
     "name": "stdout",
     "output_type": "stream",
     "text": [
      "  ==> Training (100 iterations)\n",
      "\n",
      "      Iteration    Log Likelihood    Accuracy\n",
      "      ---------------------------------------\n",
      "             1          -0.69315        0.371\n",
      "             2          -0.40759        0.798\n",
      "             3          -0.35145        0.817\n",
      "             4          -0.32621        0.824\n",
      "             5          -0.31201        0.826\n",
      "             6          -0.30291        0.828\n",
      "             7          -0.29655        0.831\n",
      "             8          -0.29183        0.832\n",
      "             9          -0.28818        0.832\n",
      "            10          -0.28525        0.832\n",
      "            11          -0.28285        0.832\n",
      "            12          -0.28083        0.832\n",
      "            13          -0.27911        0.833\n",
      "            14          -0.27763        0.834\n",
      "            15          -0.27634        0.834\n",
      "            16          -0.27521        0.834\n",
      "            17          -0.27420        0.834\n",
      "            18          -0.27330        0.835\n",
      "            19          -0.27250        0.835\n",
      "            20          -0.27177        0.835\n",
      "            21          -0.27110        0.836\n",
      "            22          -0.27050        0.836\n",
      "            23          -0.26994        0.836\n",
      "            24          -0.26943        0.836\n",
      "            25          -0.26896        0.836\n",
      "            26          -0.26853        0.836\n",
      "            27          -0.26812        0.836\n",
      "            28          -0.26775        0.836\n",
      "            29          -0.26739        0.836\n",
      "            30          -0.26706        0.836\n",
      "            31          -0.26675        0.836\n",
      "            32          -0.26646        0.836\n",
      "            33          -0.26619        0.836\n",
      "            34          -0.26593        0.836\n",
      "            35          -0.26568        0.836\n",
      "            36          -0.26545        0.836\n",
      "            37          -0.26523        0.836\n",
      "            38          -0.26502        0.836\n",
      "            39          -0.26482        0.836\n",
      "            40          -0.26463        0.836\n",
      "            41          -0.26445        0.836\n",
      "            42          -0.26427        0.836\n",
      "            43          -0.26411        0.836\n",
      "            44          -0.26395        0.836\n",
      "            45          -0.26379        0.836\n",
      "            46          -0.26365        0.836\n",
      "            47          -0.26351        0.836\n",
      "            48          -0.26337        0.836\n",
      "            49          -0.26324        0.836\n",
      "            50          -0.26311        0.836\n",
      "            51          -0.26299        0.836\n",
      "            52          -0.26288        0.836\n",
      "            53          -0.26276        0.836\n",
      "            54          -0.26265        0.836\n",
      "            55          -0.26255        0.836\n",
      "            56          -0.26244        0.836\n",
      "            57          -0.26235        0.836\n",
      "            58          -0.26225        0.836\n",
      "            59          -0.26216        0.836\n",
      "            60          -0.26207        0.836\n",
      "            61          -0.26198        0.836\n",
      "            62          -0.26189        0.836\n",
      "            63          -0.26181        0.836\n",
      "            64          -0.26173        0.836\n",
      "            65          -0.26165        0.836\n",
      "            66          -0.26158        0.836\n",
      "            67          -0.26150        0.836\n",
      "            68          -0.26143        0.836\n",
      "            69          -0.26136        0.836\n",
      "            70          -0.26129        0.836\n",
      "            71          -0.26123        0.836\n",
      "            72          -0.26116        0.836\n",
      "            73          -0.26110        0.836\n",
      "            74          -0.26104        0.836\n",
      "            75          -0.26098        0.836\n",
      "            76          -0.26092        0.836\n",
      "            77          -0.26086        0.836\n",
      "            78          -0.26081        0.836\n",
      "            79          -0.26075        0.836\n",
      "            80          -0.26070        0.836\n",
      "            81          -0.26065        0.836\n",
      "            82          -0.26059        0.836\n",
      "            83          -0.26054        0.836\n",
      "            84          -0.26050        0.836\n",
      "            85          -0.26045        0.836\n",
      "            86          -0.26040        0.836\n",
      "            87          -0.26036        0.836\n",
      "            88          -0.26031        0.836\n",
      "            89          -0.26027        0.836\n",
      "            90          -0.26022        0.836\n",
      "            91          -0.26018        0.836\n",
      "            92          -0.26014        0.836\n",
      "            93          -0.26010        0.836\n",
      "            94          -0.26006        0.836\n",
      "            95          -0.26002        0.836\n",
      "            96          -0.25998        0.836\n",
      "            97          -0.25995        0.836\n",
      "            98          -0.25991        0.836\n",
      "            99          -0.25987        0.836\n",
      "         Final          -0.25984        0.836\n"
     ]
    }
   ],
   "source": [
    "me3_classifier = MaxentClassifier.train(train_set)"
   ]
  },
  {
   "cell_type": "code",
   "execution_count": 48,
   "metadata": {},
   "outputs": [
    {
     "data": {
      "text/plain": [
       "0.826"
      ]
     },
     "execution_count": 48,
     "metadata": {},
     "output_type": "execute_result"
    }
   ],
   "source": [
    "classify.accuracy(me3_classifier, test_set)"
   ]
  },
  {
   "cell_type": "code",
   "execution_count": null,
   "metadata": {
    "collapsed": true
   },
   "outputs": [],
   "source": []
  }
 ],
 "metadata": {
  "kernelspec": {
   "display_name": "Python 3",
   "language": "python",
   "name": "python3"
  },
  "language_info": {
   "codemirror_mode": {
    "name": "ipython",
    "version": 3
   },
   "file_extension": ".py",
   "mimetype": "text/x-python",
   "name": "python",
   "nbconvert_exporter": "python",
   "pygments_lexer": "ipython3",
   "version": "3.5.3"
  }
 },
 "nbformat": 4,
 "nbformat_minor": 2
}
